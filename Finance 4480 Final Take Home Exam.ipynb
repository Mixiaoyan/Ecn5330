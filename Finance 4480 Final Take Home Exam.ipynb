{
 "cells": [
  {
   "cell_type": "markdown",
   "metadata": {},
   "source": [
    "# Finance 4480 - Derivatives Markets\n",
    "\n",
    "- **Final Take Home Exam**\n",
    "- **Due: within 10 hours of being checked out**"
   ]
  },
  {
   "cell_type": "markdown",
   "metadata": {},
   "source": [
    "## Instructions\n",
    "\n",
    "You have 10 hours to take this exam. It is due no later than 10 hours after you check it out. Please submit it by email to tyler.brough@aggiemail.usu.edu. In the subject line please write your A#, Last name, first name, Finance 4480 Final Exam, Date. So if my name were Bob Zimmerman and my A# were A0123456, I would make the subject of my email:\n",
    "\n",
    "```\n",
    "Subject: A0123456, Zimmerman, Bob, Finance 4480 Final Exam, 05/02/2016\n",
    "```\n",
    "\n",
    "Please then attach all the documents that you want to include in your final solutions. Rename this to be turned in, in a similar manner to the subject line above. For example,\n",
    "\n",
    "```\n",
    "A0123456-Zimmerman-Bob-FIN4480-Final-Exam-05022016.ipynb\n",
    "```\n",
    "\n"
   ]
  },
  {
   "cell_type": "markdown",
   "metadata": {},
   "source": [
    "## Short Answer Questions"
   ]
  },
  {
   "cell_type": "markdown",
   "metadata": {},
   "source": [
    "## Problem 1"
   ]
  },
  {
   "cell_type": "markdown",
   "metadata": {
    "collapsed": true
   },
   "source": [
    "Please give short definitions for the following:\n",
    "\n",
    "- The *no-arbitrage principle*"
   ]
  },
  {
   "cell_type": "markdown",
   "metadata": {},
   "source": []
  },
  {
   "cell_type": "markdown",
   "metadata": {},
   "source": [
    "- The *price mechanism*"
   ]
  },
  {
   "cell_type": "markdown",
   "metadata": {},
   "source": []
  },
  {
   "cell_type": "markdown",
   "metadata": {},
   "source": [
    "- The informational content of prices\n"
   ]
  },
  {
   "cell_type": "markdown",
   "metadata": {},
   "source": []
  },
  {
   "cell_type": "markdown",
   "metadata": {},
   "source": [
    "## Numerical Workout Problems"
   ]
  },
  {
   "cell_type": "markdown",
   "metadata": {
    "collapsed": true
   },
   "source": [
    "## Problem 2\n",
    "\n",
    "By hand, price the following call and put options with a three-period binomial tree. Price the option as both an American option and a European option.\n",
    "\n",
    "- $S_{0} = \\$41.0 \\quad $ (spot price)\n",
    "- $K = \\$40.0 \\quad $ (strike price)\n",
    "- $r = 0.08 \\quad $ (risk-free rate)\n",
    "- $\\sigma = 0.30 \\quad $ (volatility)\n",
    "- $\\delta = 0.0 \\quad $ (dividend)\n",
    "- $T = 0.25 \\quad $ (expiry)\n",
    "\n",
    "Either use markdown and LaTeX to write your solution in a cell below, or write it by hand on a sheet of paper and scan it in (mostly like the latter)."
   ]
  },
  {
   "cell_type": "markdown",
   "metadata": {},
   "source": []
  },
  {
   "cell_type": "markdown",
   "metadata": {},
   "source": [
    "## Computational Workout Problems\n"
   ]
  },
  {
   "cell_type": "markdown",
   "metadata": {},
   "source": [
    "### Problem 1\n",
    "\n",
    "Assume the following:\n",
    "\n",
    "- $S_{0} = \\$100 \\quad$ (spot price)\n",
    "- $r = 0.05 \\quad$ (risk-free rate)\n",
    "- $\\sigma = 0.25 \\quad$ (volatility)\n",
    "- $\\delta = 0.0 \\quad$ (dividend yield)\n",
    "- $T = 1 \\quad$ (expiry)\n",
    "\n",
    "Use Monte Carlo valuation to compute the price of claim that pays $\\$1$ if $S_{T} > \\$100$, and $\\$0$ otherwise.\n",
    "(This is called a *cash-or-nothing call* option, and it has a theoretical price of $\\$0.5040$)\n",
    "\n",
    "**1.** Running 1000 simulations, what is the estimated price of the contract? How close is it to $\\$0.50404$?\n",
    "  \n",
    "  \n",
    "  \n",
    "  \n",
    "  \n",
    "**2.** What is the standard deviation of your Monte Carlo estimate? What is the $95\\%$ confidence interval for your estimate? This is weird ...\n",
    "         \n",
    "*Hint:* Use the `sort` function: \n",
    "\n",
    "```{Python}\n",
    "x = np.random.normal(size=100)\n",
    "x.sort()\n",
    "```"
   ]
  },
  {
   "cell_type": "code",
   "execution_count": 8,
   "metadata": {
    "collapsed": true
   },
   "outputs": [],
   "source": [
    "import numpy as np\n",
    "from scipy.stats import norm\n",
    "import matplotlib.pyplot as plt"
   ]
  },
  {
   "cell_type": "markdown",
   "metadata": {
    "collapsed": true
   },
   "source": [
    "### Problem 3\n",
    "\n",
    "Price call and put European options given the following information:\n",
    "\n",
    "- $S_{0} = \\$41.0 \\quad $ (spot price)\n",
    "- $K = \\$40.0 \\quad $ (strike price)\n",
    "- $r = 0.08 \\quad $ (risk-free rate)\n",
    "- $\\sigma = 0.30 \\quad $ (volatility)\n",
    "- $\\delta = 0.0 \\quad $ (dividend)\n",
    "- $T = 0.25 \\quad $ (expiry)\n",
    "\n",
    "1. Price the call and the put via Black-Scholes. Put your answers in the cell below:\n"
   ]
  },
  {
   "cell_type": "code",
   "execution_count": null,
   "metadata": {
    "collapsed": true
   },
   "outputs": [],
   "source": []
  },
  {
   "cell_type": "markdown",
   "metadata": {},
   "source": [
    "Now price the call and put via the European Binomial Model. Also, do the following:\n",
    "\n",
    "- Vary the number of steps in the tree from $100, \\ldots, 1000$.\n",
    "- Describe the convergence pattern, and compare to the Black-Scholes model.\n",
    "\n",
    "*Hint:* use a loop to vary the time steps.\n",
    "\n",
    "Put your answer in the cell below, adding whatever additional cells you require."
   ]
  },
  {
   "cell_type": "code",
   "execution_count": null,
   "metadata": {
    "collapsed": true
   },
   "outputs": [],
   "source": []
  },
  {
   "cell_type": "markdown",
   "metadata": {},
   "source": [
    "Now assume that instead of a European call and put you want to price an American call and put. Use the American Binomial pricing model to do so.\n",
    "\n",
    "- Compare the answers to the Black-Scholes and European Binomial cases. Are they different? Why or why not?\n",
    "- Also change the value of $\\delta$ (dividend yield) to be positive, and vary it from $0.05, 0.10, 0.15, \\ldots, 1.0$.\n",
    "- How does a positive dividend yield affect the pricing of the call and put? Compare to the Black-Scholes and European cases. Explain carefull.\n",
    "\n",
    "Put your answer in the cell below, with whatever additional cells are needed."
   ]
  },
  {
   "cell_type": "code",
   "execution_count": null,
   "metadata": {
    "collapsed": true
   },
   "outputs": [],
   "source": []
  },
  {
   "cell_type": "markdown",
   "metadata": {
    "collapsed": true
   },
   "source": [
    "### Problem 4\n",
    "\n",
    "Suppose that:\n",
    "\n",
    "- $S_{0} = 100 \\quad $ (spot price)\n",
    "- $r = 0.06 \\quad $ (risk-free rate)\n",
    "- $\\sigma_{s} = 0.4 \\quad $ (volatility)\n",
    "- $\\delta = 0 \\quad $ (dividend)\n",
    "\n",
    "Use Monte Carlo to compute prices for claims (payoffs) that pay the following. Use 50,000 simulations for each price.\n",
    "\n",
    "1. $S_{1}^{2}$\n",
    "2. $\\sqrt{S_{1}}$\n",
    "3. $S_{1}^{-1}$\n",
    "\n",
    "\n",
    "Put your code in the cell below. Add any addtional cells that are needed.\n",
    "\n",
    "\n",
    "*Hint:* a typical call options has payoff of `max(spot - strike, 0.0)`, but these have the non-standard payoffs given above. "
   ]
  },
  {
   "cell_type": "code",
   "execution_count": null,
   "metadata": {
    "collapsed": true
   },
   "outputs": [],
   "source": []
  },
  {
   "cell_type": "markdown",
   "metadata": {},
   "source": [
    "### Problem 5\n",
    "\n",
    "An options trader purchases 1000 1-year at-the-money calls on a non-divdend-paying stock with\n",
    "\n",
    "- $S_{0} = \\$100 \\quad $ (spot price)\n",
    "- $\\alpha = 0.20 \\quad $ (risk premium)\n",
    "- $\\sigma = 0.25 \\quad $ (volatility)\n",
    "- $r = 0.05 \\quad $ (risk-free rate)\n",
    "\n",
    "\n",
    "\n",
    "1. Price the option by the Black-Scholes-Merton model. What is the price?\n",
    "2. Price the option by the European Binomial Model. Start with 10 time steps in your tree, and then proceed up to 200 time steps in increments of 10. (That is, price the option 20 different times with time steps: $10, 20, 30 \\ldots 100, 110, \\ldots 200$). How quickly does the Binomial Model converge to the Black-Scholes price?\n",
    "3. Price the option by the Naive, Antithetic, and Stratified sampling Monte Carlo methods. For each, also calculate the standard error (use `np.std(ddof=1) / np.sqrt(time_steps)` or something similar). Which Monte Carlo method produces the most efficient estimate of the price? Use 10,000 replications for the simulations.\n",
    "4. Finally, make a plot of the convergence of each Monte Carlo algorithm as follows:\n",
    "    - For samples sizes $100, 200, \\ldots, 10,000$ plot the estimated price. \n",
    "    - To accomplish this, store each value of your simulation in an `ndarray`. Set that array up as: \n",
    "    \n",
    "```python    \n",
    "values = np.zeros(100)\n",
    "```\n",
    "\n",
    "    Also, set up an index to iterate over the values:\n",
    "    \n",
    "```python\n",
    "ind = np.linspace(100,10000,100,dtype='int64')\n",
    "```\n",
    "\n",
    "    Use this index to subset the simulation for each intermedidate value plotted (see below for example).\n",
    "    \n",
    "    Finally, here is an example of a plot that should guide you."
   ]
  },
  {
   "cell_type": "code",
   "execution_count": 9,
   "metadata": {
    "collapsed": true
   },
   "outputs": [],
   "source": [
    "%matplotlib inline"
   ]
  },
  {
   "cell_type": "code",
   "execution_count": 23,
   "metadata": {
    "collapsed": false
   },
   "outputs": [
    {
     "data": {
      "text/plain": [
       "<matplotlib.text.Text at 0x10f0bfb38>"
      ]
     },
     "execution_count": 23,
     "metadata": {},
     "output_type": "execute_result"
    },
    {
     "data": {
      "image/png": "[encoded data removed]",
      "text/plain": [
       "<matplotlib.figure.Figure at 0x10f07b780>"
      ]
     },
     "metadata": {},
     "output_type": "display_data"
    }
   ],
   "source": [
    "m = 10000\n",
    "ind = np.linspace(100,10000,100,dtype='int64')\n",
    "means = np.zeros(len(ind))\n",
    "x = np.random.normal(size=m)\n",
    "\n",
    "for i in range(len(ind)):\n",
    "    y = x[:(i+1)]\n",
    "    means[i] = y.mean()\n",
    "    \n",
    "plt.plot(means, 'b', lw = 2.5)\n",
    "plt.grid(True)\n",
    "plt.title(\"Simulating the Converence of the Mean Estimator\")\n",
    "plt.xlabel(\"Sample Size\")\n",
    "plt.ylabel(\"Estimated Mean\")"
   ]
  },
  {
   "cell_type": "markdown",
   "metadata": {},
   "source": [
    "This is just (kind of a too simple) an example. The details of you graphs will be different, but this gives you an idea of how to do it. You will be simulating the convergence of the pricing algorithms instead of just a mean as I have done here. \n",
    "\n",
    "Compare the graphs. Which Monte Carlo method converges most quickly? \n",
    "\n",
    "Put your answers in the cell below. Insert as many additional cells as necessary."
   ]
  },
  {
   "cell_type": "code",
   "execution_count": null,
   "metadata": {
    "collapsed": true
   },
   "outputs": [],
   "source": []
  },
  {
   "cell_type": "markdown",
   "metadata": {},
   "source": [
    "## Final Thoughts\n",
    "\n",
    "Please write down some things you liked about this class. "
   ]
  },
  {
   "cell_type": "markdown",
   "metadata": {
    "collapsed": true
   },
   "source": []
  },
  {
   "cell_type": "markdown",
   "metadata": {},
   "source": [
    "Please write down some suggestions for improving this class."
   ]
  },
  {
   "cell_type": "markdown",
   "metadata": {},
   "source": []
  }
 ],
 "metadata": {
  "kernelspec": {
   "display_name": "Python 3",
   "language": "python",
   "name": "python3"
  },
  "language_info": {
   "codemirror_mode": {
    "name": "ipython",
    "version": 3
   },
   "file_extension": ".py",
   "mimetype": "text/x-python",
   "name": "python",
   "nbconvert_exporter": "python",
   "pygments_lexer": "ipython3",
   "version": "3.4.4"
  }
 },
 "nbformat": 4,
 "nbformat_minor": 0
}
